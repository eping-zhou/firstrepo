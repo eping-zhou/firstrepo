select * from lending_schema.lending
